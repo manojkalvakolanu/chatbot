{
  "nbformat": 4,
  "nbformat_minor": 0,
  "metadata": {
    "colab": {
      "name": "Tokenization_keras_tf",
      "provenance": [],
      "collapsed_sections": [],
      "authorship_tag": "ABX9TyP4j67UuIDfBvo3l4Z1OyxY",
      "include_colab_link": true
    },
    "kernelspec": {
      "name": "python3",
      "display_name": "Python 3"
    }
  },
  "cells": [
    {
      "cell_type": "markdown",
      "metadata": {
        "id": "view-in-github",
        "colab_type": "text"
      },
      "source": [
        "<a href=\"https://colab.research.google.com/github/ranjiGT/NLPAlgosScratch-/blob/main/Tokenization_keras_tf.ipynb\" target=\"_parent\"><img src=\"https://colab.research.google.com/assets/colab-badge.svg\" alt=\"Open In Colab\"/></a>"
      ]
    },
    {
      "cell_type": "code",
      "metadata": {
        "id": "HQ3cHv_0wCaR"
      },
      "source": [
        "import tensorflow as tf\r\n",
        "from tensorflow import keras\r\n",
        "from tensorflow.keras.preprocessing.text import text_to_word_sequence, Tokenizer\r\n",
        "\r\n",
        "quote = 'I CAN is 100 times more important that IQ'\r\n",
        "res = text_to_word_sequence(quote)\r\n",
        "print(res)"
      ],
      "execution_count": null,
      "outputs": []
    },
    {
      "cell_type": "code",
      "metadata": {
        "id": "wV4D8b1owlWW"
      },
      "source": [
        "#Tokenizer API\r\n",
        "t = Tokenizer()\r\n",
        "t.fit_on_texts(quote)\r\n",
        "\r\n",
        "#Learnings so far\r\n",
        "print(t.word_counts)\r\n",
        "print(t.document_count)\r\n",
        "print(t.word_index)\r\n",
        "print(t.word_docs)"
      ],
      "execution_count": null,
      "outputs": []
    },
    {
      "cell_type": "code",
      "metadata": {
        "id": "1_SxHznnxSHG"
      },
      "source": [
        "sentence = ['He is Jose', 'He is German']\r\n",
        "tokenizer = Tokenizer(num_words=100)\r\n",
        "tokenizer.fit_on_texts(sentence)\r\n",
        "word_index = tokenizer.word_index\r\n",
        "print(word_index)"
      ],
      "execution_count": null,
      "outputs": []
    },
    {
      "cell_type": "code",
      "metadata": {
        "id": "WEdc-f_FyM2Z"
      },
      "source": [
        "_sentence = ['Jones is a Nurse', 'Sam is Doctor', 'Ranji is a Teacher']\r\n",
        "tokeinizer = Tokenizer(num_words=100)\r\n",
        "tokenizer.fit_on_texts(_sentence)\r\n",
        "word_index = tokenizer.word_index\r\n",
        "print(word_index)"
      ],
      "execution_count": null,
      "outputs": []
    }
  ]
}